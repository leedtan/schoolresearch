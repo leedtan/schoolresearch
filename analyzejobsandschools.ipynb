{
 "cells": [
  {
   "cell_type": "code",
   "execution_count": 22,
   "metadata": {
    "scrolled": true
   },
   "outputs": [
    {
     "data": {
      "text/html": [
       "<div>\n",
       "<style scoped>\n",
       "    .dataframe tbody tr th:only-of-type {\n",
       "        vertical-align: middle;\n",
       "    }\n",
       "\n",
       "    .dataframe tbody tr th {\n",
       "        vertical-align: top;\n",
       "    }\n",
       "\n",
       "    .dataframe thead th {\n",
       "        text-align: right;\n",
       "    }\n",
       "</style>\n",
       "<table border=\"1\" class=\"dataframe\">\n",
       "  <thead>\n",
       "    <tr style=\"text-align: right;\">\n",
       "      <th>Unnamed: 0</th>\n",
       "      <th>Mentions Python/Scripting languages</th>\n",
       "      <th>Mentions SQL/database languages</th>\n",
       "      <th>Mentions Big data technologies</th>\n",
       "      <th>Engineering Required</th>\n",
       "      <th>Engineering as a core focus</th>\n",
       "      <th>Traditional Machine Learning math/statistics</th>\n",
       "      <th>Modern Machine Learning math/research</th>\n",
       "      <th>Business Problem Solving</th>\n",
       "      <th>Problem solving using machine learning</th>\n",
       "      <th>Business Communication/ interaction</th>\n",
       "    </tr>\n",
       "  </thead>\n",
       "  <tbody>\n",
       "    <tr>\n",
       "      <th>Google</th>\n",
       "      <td>1</td>\n",
       "      <td>1</td>\n",
       "      <td>0</td>\n",
       "      <td>1</td>\n",
       "      <td>1</td>\n",
       "      <td>1</td>\n",
       "      <td>1</td>\n",
       "      <td>1</td>\n",
       "      <td>1</td>\n",
       "      <td>0</td>\n",
       "    </tr>\n",
       "    <tr>\n",
       "      <th>Amazon</th>\n",
       "      <td>1</td>\n",
       "      <td>1</td>\n",
       "      <td>0</td>\n",
       "      <td>0</td>\n",
       "      <td>0</td>\n",
       "      <td>1</td>\n",
       "      <td>0</td>\n",
       "      <td>1</td>\n",
       "      <td>1</td>\n",
       "      <td>1</td>\n",
       "    </tr>\n",
       "    <tr>\n",
       "      <th>BofA</th>\n",
       "      <td>1</td>\n",
       "      <td>1</td>\n",
       "      <td>0</td>\n",
       "      <td>1</td>\n",
       "      <td>1</td>\n",
       "      <td>1</td>\n",
       "      <td>0</td>\n",
       "      <td>1</td>\n",
       "      <td>0</td>\n",
       "      <td>1</td>\n",
       "    </tr>\n",
       "    <tr>\n",
       "      <th>Two Sigma</th>\n",
       "      <td>1</td>\n",
       "      <td>0</td>\n",
       "      <td>1</td>\n",
       "      <td>1</td>\n",
       "      <td>0</td>\n",
       "      <td>1</td>\n",
       "      <td>1</td>\n",
       "      <td>1</td>\n",
       "      <td>1</td>\n",
       "      <td>1</td>\n",
       "    </tr>\n",
       "    <tr>\n",
       "      <th>Aetna</th>\n",
       "      <td>0</td>\n",
       "      <td>0</td>\n",
       "      <td>1</td>\n",
       "      <td>0</td>\n",
       "      <td>0</td>\n",
       "      <td>1</td>\n",
       "      <td>0</td>\n",
       "      <td>1</td>\n",
       "      <td>1</td>\n",
       "      <td>1</td>\n",
       "    </tr>\n",
       "    <tr>\n",
       "      <th>Coca-Cola</th>\n",
       "      <td>0</td>\n",
       "      <td>0</td>\n",
       "      <td>0</td>\n",
       "      <td>1</td>\n",
       "      <td>0</td>\n",
       "      <td>1</td>\n",
       "      <td>0</td>\n",
       "      <td>1</td>\n",
       "      <td>0</td>\n",
       "      <td>1</td>\n",
       "    </tr>\n",
       "  </tbody>\n",
       "</table>\n",
       "</div>"
      ],
      "text/plain": [
       "Unnamed: 0  Mentions Python/Scripting languages  \\\n",
       "Google                                        1   \n",
       "Amazon                                        1   \n",
       "BofA                                          1   \n",
       "Two Sigma                                     1   \n",
       "Aetna                                         0   \n",
       "Coca-Cola                                     0   \n",
       "\n",
       "Unnamed: 0  Mentions SQL/database languages  Mentions Big data technologies  \\\n",
       "Google                                    1                               0   \n",
       "Amazon                                    1                               0   \n",
       "BofA                                      1                               0   \n",
       "Two Sigma                                 0                               1   \n",
       "Aetna                                     0                               1   \n",
       "Coca-Cola                                 0                               0   \n",
       "\n",
       "Unnamed: 0  Engineering Required  Engineering as a core focus  \\\n",
       "Google                         1                            1   \n",
       "Amazon                         0                            0   \n",
       "BofA                           1                            1   \n",
       "Two Sigma                      1                            0   \n",
       "Aetna                          0                            0   \n",
       "Coca-Cola                      1                            0   \n",
       "\n",
       "Unnamed: 0  Traditional Machine Learning math/statistics  \\\n",
       "Google                                                 1   \n",
       "Amazon                                                 1   \n",
       "BofA                                                   1   \n",
       "Two Sigma                                              1   \n",
       "Aetna                                                  1   \n",
       "Coca-Cola                                              1   \n",
       "\n",
       "Unnamed: 0  Modern Machine Learning math/research  Business Problem Solving  \\\n",
       "Google                                          1                         1   \n",
       "Amazon                                          0                         1   \n",
       "BofA                                            0                         1   \n",
       "Two Sigma                                       1                         1   \n",
       "Aetna                                           0                         1   \n",
       "Coca-Cola                                       0                         1   \n",
       "\n",
       "Unnamed: 0  Problem solving using machine learning  \\\n",
       "Google                                           1   \n",
       "Amazon                                           1   \n",
       "BofA                                             0   \n",
       "Two Sigma                                        1   \n",
       "Aetna                                            1   \n",
       "Coca-Cola                                        0   \n",
       "\n",
       "Unnamed: 0  Business Communication/ interaction  \n",
       "Google                                        0  \n",
       "Amazon                                        1  \n",
       "BofA                                          1  \n",
       "Two Sigma                                     1  \n",
       "Aetna                                         1  \n",
       "Coca-Cola                                     1  "
      ]
     },
     "execution_count": 22,
     "metadata": {},
     "output_type": "execute_result"
    }
   ],
   "source": [
    "import pandas as pd\n",
    "\n",
    "import os\n",
    "\n",
    "os.listdir()\n",
    "\n",
    "jobs = pd.read_excel('jobsandschools.xlsx', sheet_name=0).set_index(\n",
    "    'Unnamed: 0').fillna(0).replace('X', 1).T\n",
    "\n",
    "schools = pd.read_excel('jobsandschools.xlsx', sheet_name=1).set_index(\n",
    "    'Unnamed: 0').fillna(0).replace('X', 1).T\n",
    "\n",
    "jobs"
   ]
  },
  {
   "cell_type": "code",
   "execution_count": 23,
   "metadata": {},
   "outputs": [
    {
     "data": {
      "text/html": [
       "<div>\n",
       "<style scoped>\n",
       "    .dataframe tbody tr th:only-of-type {\n",
       "        vertical-align: middle;\n",
       "    }\n",
       "\n",
       "    .dataframe tbody tr th {\n",
       "        vertical-align: top;\n",
       "    }\n",
       "\n",
       "    .dataframe thead th {\n",
       "        text-align: right;\n",
       "    }\n",
       "</style>\n",
       "<table border=\"1\" class=\"dataframe\">\n",
       "  <thead>\n",
       "    <tr style=\"text-align: right;\">\n",
       "      <th>Unnamed: 0</th>\n",
       "      <th>Teaches Python/Scripting languages</th>\n",
       "      <th>Teaches SQL/database languages</th>\n",
       "      <th>Teaches Big data technologies</th>\n",
       "      <th>Engineering</th>\n",
       "      <th>Engineering as a core focus</th>\n",
       "      <th>Traditional Machine Learning math/statistics</th>\n",
       "      <th>Modern Machine Learning math/research</th>\n",
       "      <th>Business Problem Solving</th>\n",
       "      <th>Problem solving using machine learning</th>\n",
       "      <th>Business Communication/ interaction</th>\n",
       "    </tr>\n",
       "  </thead>\n",
       "  <tbody>\n",
       "    <tr>\n",
       "      <th>NYU</th>\n",
       "      <td>1</td>\n",
       "      <td>0</td>\n",
       "      <td>1</td>\n",
       "      <td>0</td>\n",
       "      <td>0</td>\n",
       "      <td>1</td>\n",
       "      <td>1</td>\n",
       "      <td>0</td>\n",
       "      <td>0</td>\n",
       "      <td>0</td>\n",
       "    </tr>\n",
       "    <tr>\n",
       "      <th>CMU - Systems</th>\n",
       "      <td>1</td>\n",
       "      <td>1</td>\n",
       "      <td>1</td>\n",
       "      <td>1</td>\n",
       "      <td>1</td>\n",
       "      <td>1</td>\n",
       "      <td>0</td>\n",
       "      <td>0</td>\n",
       "      <td>0</td>\n",
       "      <td>0</td>\n",
       "    </tr>\n",
       "    <tr>\n",
       "      <th>CMU - Analytics</th>\n",
       "      <td>1</td>\n",
       "      <td>0</td>\n",
       "      <td>1</td>\n",
       "      <td>0</td>\n",
       "      <td>0</td>\n",
       "      <td>1</td>\n",
       "      <td>1</td>\n",
       "      <td>0</td>\n",
       "      <td>1</td>\n",
       "      <td>0</td>\n",
       "    </tr>\n",
       "    <tr>\n",
       "      <th>CMU - Human Centered</th>\n",
       "      <td>1</td>\n",
       "      <td>0</td>\n",
       "      <td>0</td>\n",
       "      <td>0</td>\n",
       "      <td>0</td>\n",
       "      <td>1</td>\n",
       "      <td>0</td>\n",
       "      <td>1</td>\n",
       "      <td>1</td>\n",
       "      <td>1</td>\n",
       "    </tr>\n",
       "    <tr>\n",
       "      <th>Northwestern</th>\n",
       "      <td>1</td>\n",
       "      <td>1</td>\n",
       "      <td>1</td>\n",
       "      <td>0</td>\n",
       "      <td>0</td>\n",
       "      <td>1</td>\n",
       "      <td>1</td>\n",
       "      <td>1</td>\n",
       "      <td>1</td>\n",
       "      <td>1</td>\n",
       "    </tr>\n",
       "    <tr>\n",
       "      <th>MIT</th>\n",
       "      <td>1</td>\n",
       "      <td>1</td>\n",
       "      <td>0</td>\n",
       "      <td>0</td>\n",
       "      <td>0</td>\n",
       "      <td>1</td>\n",
       "      <td>0</td>\n",
       "      <td>1</td>\n",
       "      <td>0</td>\n",
       "      <td>1</td>\n",
       "    </tr>\n",
       "    <tr>\n",
       "      <th>Stanford</th>\n",
       "      <td>1</td>\n",
       "      <td>1</td>\n",
       "      <td>1</td>\n",
       "      <td>1</td>\n",
       "      <td>1</td>\n",
       "      <td>1</td>\n",
       "      <td>1</td>\n",
       "      <td>1</td>\n",
       "      <td>0</td>\n",
       "      <td>0</td>\n",
       "    </tr>\n",
       "    <tr>\n",
       "      <th>Berkeley</th>\n",
       "      <td>1</td>\n",
       "      <td>0</td>\n",
       "      <td>1</td>\n",
       "      <td>1</td>\n",
       "      <td>1</td>\n",
       "      <td>1</td>\n",
       "      <td>1</td>\n",
       "      <td>1</td>\n",
       "      <td>1</td>\n",
       "      <td>1</td>\n",
       "    </tr>\n",
       "  </tbody>\n",
       "</table>\n",
       "</div>"
      ],
      "text/plain": [
       "Unnamed: 0            Teaches Python/Scripting languages  \\\n",
       "NYU                                                    1   \n",
       "CMU - Systems                                          1   \n",
       "CMU - Analytics                                        1   \n",
       "CMU - Human Centered                                   1   \n",
       "Northwestern                                           1   \n",
       "MIT                                                    1   \n",
       "Stanford                                               1   \n",
       "Berkeley                                               1   \n",
       "\n",
       "Unnamed: 0            Teaches SQL/database languages  \\\n",
       "NYU                                                0   \n",
       "CMU - Systems                                      1   \n",
       "CMU - Analytics                                    0   \n",
       "CMU - Human Centered                               0   \n",
       "Northwestern                                       1   \n",
       "MIT                                                1   \n",
       "Stanford                                           1   \n",
       "Berkeley                                           0   \n",
       "\n",
       "Unnamed: 0            Teaches Big data technologies  Engineering  \\\n",
       "NYU                                               1            0   \n",
       "CMU - Systems                                     1            1   \n",
       "CMU - Analytics                                   1            0   \n",
       "CMU - Human Centered                              0            0   \n",
       "Northwestern                                      1            0   \n",
       "MIT                                               0            0   \n",
       "Stanford                                          1            1   \n",
       "Berkeley                                          1            1   \n",
       "\n",
       "Unnamed: 0            Engineering as a core focus  \\\n",
       "NYU                                             0   \n",
       "CMU - Systems                                   1   \n",
       "CMU - Analytics                                 0   \n",
       "CMU - Human Centered                            0   \n",
       "Northwestern                                    0   \n",
       "MIT                                             0   \n",
       "Stanford                                        1   \n",
       "Berkeley                                        1   \n",
       "\n",
       "Unnamed: 0            Traditional Machine Learning math/statistics  \\\n",
       "NYU                                                              1   \n",
       "CMU - Systems                                                    1   \n",
       "CMU - Analytics                                                  1   \n",
       "CMU - Human Centered                                             1   \n",
       "Northwestern                                                     1   \n",
       "MIT                                                              1   \n",
       "Stanford                                                         1   \n",
       "Berkeley                                                         1   \n",
       "\n",
       "Unnamed: 0            Modern Machine Learning math/research  \\\n",
       "NYU                                                       1   \n",
       "CMU - Systems                                             0   \n",
       "CMU - Analytics                                           1   \n",
       "CMU - Human Centered                                      0   \n",
       "Northwestern                                              1   \n",
       "MIT                                                       0   \n",
       "Stanford                                                  1   \n",
       "Berkeley                                                  1   \n",
       "\n",
       "Unnamed: 0            Business Problem Solving  \\\n",
       "NYU                                          0   \n",
       "CMU - Systems                                0   \n",
       "CMU - Analytics                              0   \n",
       "CMU - Human Centered                         1   \n",
       "Northwestern                                 1   \n",
       "MIT                                          1   \n",
       "Stanford                                     1   \n",
       "Berkeley                                     1   \n",
       "\n",
       "Unnamed: 0            Problem solving using machine learning  \\\n",
       "NYU                                                        0   \n",
       "CMU - Systems                                              0   \n",
       "CMU - Analytics                                            1   \n",
       "CMU - Human Centered                                       1   \n",
       "Northwestern                                               1   \n",
       "MIT                                                        0   \n",
       "Stanford                                                   0   \n",
       "Berkeley                                                   1   \n",
       "\n",
       "Unnamed: 0            Business Communication/ interaction  \n",
       "NYU                                                     0  \n",
       "CMU - Systems                                           0  \n",
       "CMU - Analytics                                         0  \n",
       "CMU - Human Centered                                    1  \n",
       "Northwestern                                            1  \n",
       "MIT                                                     1  \n",
       "Stanford                                                0  \n",
       "Berkeley                                                1  "
      ]
     },
     "execution_count": 23,
     "metadata": {},
     "output_type": "execute_result"
    }
   ],
   "source": [
    "schools"
   ]
  },
  {
   "cell_type": "code",
   "execution_count": 2,
   "metadata": {},
   "outputs": [],
   "source": [
    "from sklearn.cluster import KMeans"
   ]
  },
  {
   "cell_type": "code",
   "execution_count": 3,
   "metadata": {},
   "outputs": [],
   "source": [
    "import matplotlib.pyplot as plt\n"
   ]
  },
  {
   "cell_type": "code",
   "execution_count": 19,
   "metadata": {},
   "outputs": [],
   "source": [
    "def generate_kmeans_curve(data):\n",
    "\n",
    "    Sum_of_squared_distances = []\n",
    "    K = range(1,6)\n",
    "    for k in K:\n",
    "        km = KMeans(n_clusters=k)\n",
    "        km = km.fit(data)\n",
    "        Sum_of_squared_distances.append(km.inertia_)\n",
    "\n",
    "    plt.plot(K, Sum_of_squared_distances, 'bx-')\n",
    "    plt.xlabel('k')\n",
    "    plt.ylabel('Sum_of_squared_distances')\n",
    "    plt.title('Elbow Method For Optimal k')\n",
    "    plt.show()"
   ]
  },
  {
   "cell_type": "code",
   "execution_count": 24,
   "metadata": {},
   "outputs": [
    {
     "data": {
      "image/png": "[encoded data removed]",
      "text/plain": [
       "<Figure size 432x288 with 1 Axes>"
      ]
     },
     "metadata": {
      "needs_background": "light"
     },
     "output_type": "display_data"
    }
   ],
   "source": [
    "generate_kmeans_curve(schools)"
   ]
  },
  {
   "cell_type": "code",
   "execution_count": 25,
   "metadata": {},
   "outputs": [
    {
     "data": {
      "image/png": "[encoded data removed]",
      "text/plain": [
       "<Figure size 432x288 with 1 Axes>"
      ]
     },
     "metadata": {
      "needs_background": "light"
     },
     "output_type": "display_data"
    }
   ],
   "source": [
    "generate_kmeans_curve(jobs)"
   ]
  },
  {
   "cell_type": "code",
   "execution_count": 33,
   "metadata": {},
   "outputs": [],
   "source": [
    "from sklearn.decomposition import PCA\n",
    "from sklearn.manifold import TSNE"
   ]
  },
  {
   "cell_type": "code",
   "execution_count": 63,
   "metadata": {},
   "outputs": [],
   "source": [
    "def fit_pca(data, model):\n",
    "    output = model(n_components = 2).fit_transform(data)\n",
    "    #output = model.transform(data)\n",
    "    return pd.DataFrame(output, index = data.index)\n",
    "    "
   ]
  },
  {
   "cell_type": "code",
   "execution_count": 67,
   "metadata": {},
   "outputs": [],
   "source": [
    "def scatter(data, name):\n",
    "    ax = data.plot.scatter(0, 1)\n",
    "    for i, txt in enumerate(data.index):\n",
    "        ax.annotate(txt, (data.iloc[i, 0], data.iloc[i, 1]))\n",
    "    plt.title(name)\n",
    "    plt.savefig(name + '.png')\n",
    "    plt.show()"
   ]
  },
  {
   "cell_type": "code",
   "execution_count": 68,
   "metadata": {},
   "outputs": [
    {
     "data": {
      "image/png": "[encoded data removed]",
      "text/plain": [
       "<Figure size 432x288 with 1 Axes>"
      ]
     },
     "metadata": {
      "needs_background": "light"
     },
     "output_type": "display_data"
    },
    {
     "data": {
      "image/png": "[encoded data removed]",
      "text/plain": [
       "<Figure size 432x288 with 1 Axes>"
      ]
     },
     "metadata": {
      "needs_background": "light"
     },
     "output_type": "display_data"
    },
    {
     "data": {
      "image/png": "[encoded data removed]",
      "text/plain": [
       "<Figure size 432x288 with 1 Axes>"
      ]
     },
     "metadata": {
      "needs_background": "light"
     },
     "output_type": "display_data"
    },
    {
     "data": {
      "image/png": "[encoded data removed]",
      "text/plain": [
       "<Figure size 432x288 with 1 Axes>"
      ]
     },
     "metadata": {
      "needs_background": "light"
     },
     "output_type": "display_data"
    }
   ],
   "source": [
    "for raw_data, source_name in zip([jobs, schools], ['jobs', 'schools']):\n",
    "    for model, modelname in zip([PCA, TSNE], ['PCA', 'TSNE']):\n",
    "        data = fit_pca(schools, model)\n",
    "        scatter(data, source_name + modelname)"
   ]
  },
  {
   "cell_type": "code",
   "execution_count": 40,
   "metadata": {},
   "outputs": [
    {
     "data": {
      "text/plain": [
       "<matplotlib.axes._subplots.AxesSubplot at 0x7f9ed02a6b38>"
      ]
     },
     "execution_count": 40,
     "metadata": {},
     "output_type": "execute_result"
    },
    {
     "data": {
      "image/png": "[encoded data removed]",
      "text/plain": [
       "<Figure size 432x288 with 1 Axes>"
      ]
     },
     "metadata": {
      "needs_background": "light"
     },
     "output_type": "display_data"
    }
   ],
   "source": [
    "fit_pca(jobs).plot.scatter(0, 1)"
   ]
  },
  {
   "cell_type": "code",
   "execution_count": 41,
   "metadata": {},
   "outputs": [
    {
     "data": {
      "text/plain": [
       "<matplotlib.axes._subplots.AxesSubplot at 0x7f9ed02b0828>"
      ]
     },
     "execution_count": 41,
     "metadata": {},
     "output_type": "execute_result"
    },
    {
     "data": {
      "image/png": "[encoded data removed]",
      "text/plain": [
       "<Figure size 432x288 with 1 Axes>"
      ]
     },
     "metadata": {
      "needs_background": "light"
     },
     "output_type": "display_data"
    }
   ],
   "source": [
    "fit_pca(schools).plot.scatter(0, 1)"
   ]
  },
  {
   "cell_type": "code",
   "execution_count": null,
   "metadata": {},
   "outputs": [],
   "source": []
  }
 ],
 "metadata": {
  "kernelspec": {
   "display_name": "Python 3",
   "language": "python",
   "name": "python3"
  },
  "language_info": {
   "codemirror_mode": {
    "name": "ipython",
    "version": 3
   },
   "file_extension": ".py",
   "mimetype": "text/x-python",
   "name": "python",
   "nbconvert_exporter": "python",
   "pygments_lexer": "ipython3",
   "version": "3.7.3"
  }
 },
 "nbformat": 4,
 "nbformat_minor": 2
}
